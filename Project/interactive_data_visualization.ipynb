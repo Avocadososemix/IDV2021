{
  "nbformat": 4,
  "nbformat_minor": 0,
  "metadata": {
    "colab": {
      "name": "interactive_data_visualization.ipynb",
      "provenance": [],
      "collapsed_sections": []
    },
    "kernelspec": {
      "name": "python3",
      "display_name": "Python 3"
    },
    "language_info": {
      "name": "python"
    }
  },
  "cells": [
    {
      "cell_type": "code",
      "metadata": {
        "id": "q9j2sobAtwAK",
        "colab": {
          "base_uri": "https://localhost:8080/"
        },
        "outputId": "d3fe321c-35ca-4858-8380-fee48793dd37"
      },
      "source": [
        "from google.colab import drive\n",
        "drive.mount(\"/content/gdrive\")"
      ],
      "execution_count": 50,
      "outputs": [
        {
          "output_type": "stream",
          "text": [
            "Drive already mounted at /content/gdrive; to attempt to forcibly remount, call drive.mount(\"/content/gdrive\", force_remount=True).\n"
          ],
          "name": "stdout"
        }
      ]
    },
    {
      "cell_type": "markdown",
      "metadata": {
        "id": "4DG4-uAs_RJm"
      },
      "source": [
        "Upgrading plotly from the default 4.4.1 version to the most current 4.14.3 version is necessary, as there will otherwise be issues with the path for treemap()\n",
        "\n"
      ]
    },
    {
      "cell_type": "code",
      "metadata": {
        "colab": {
          "base_uri": "https://localhost:8080/"
        },
        "id": "szBTyh20_Laj",
        "outputId": "e2829562-1be3-4d66-9d85-30559f53f8c3"
      },
      "source": [
        "pip install plotly==4.14.3"
      ],
      "execution_count": 52,
      "outputs": [
        {
          "output_type": "stream",
          "text": [
            "Requirement already satisfied: plotly==4.14.3 in /usr/local/lib/python3.7/dist-packages (4.14.3)\n",
            "Requirement already satisfied: six in /usr/local/lib/python3.7/dist-packages (from plotly==4.14.3) (1.15.0)\n",
            "Requirement already satisfied: retrying>=1.3.3 in /usr/local/lib/python3.7/dist-packages (from plotly==4.14.3) (1.3.3)\n"
          ],
          "name": "stdout"
        }
      ]
    },
    {
      "cell_type": "code",
      "metadata": {
        "colab": {
          "base_uri": "https://localhost:8080/"
        },
        "id": "p2uM-1yiIxw3",
        "outputId": "811b9e53-9578-4082-a29c-673f1cd995e4"
      },
      "source": [
        "pip install pygbif"
      ],
      "execution_count": 53,
      "outputs": [
        {
          "output_type": "stream",
          "text": [
            "Requirement already satisfied: pygbif in /usr/local/lib/python3.7/dist-packages (0.5.0)\n",
            "Requirement already satisfied: matplotlib in /usr/local/lib/python3.7/dist-packages (from pygbif) (3.2.2)\n",
            "Requirement already satisfied: geomet in /usr/local/lib/python3.7/dist-packages (from pygbif) (0.3.0)\n",
            "Requirement already satisfied: geojson-rewind in /usr/local/lib/python3.7/dist-packages (from pygbif) (1.0.1)\n",
            "Requirement already satisfied: requests>2.7 in /usr/local/lib/python3.7/dist-packages (from pygbif) (2.23.0)\n",
            "Requirement already satisfied: requests-cache in /usr/local/lib/python3.7/dist-packages (from pygbif) (0.6.3)\n",
            "Requirement already satisfied: appdirs>=1.4.3 in /usr/local/lib/python3.7/dist-packages (from pygbif) (1.4.4)\n",
            "Requirement already satisfied: python-dateutil>=2.1 in /usr/local/lib/python3.7/dist-packages (from matplotlib->pygbif) (2.8.1)\n",
            "Requirement already satisfied: kiwisolver>=1.0.1 in /usr/local/lib/python3.7/dist-packages (from matplotlib->pygbif) (1.3.1)\n",
            "Requirement already satisfied: pyparsing!=2.0.4,!=2.1.2,!=2.1.6,>=2.0.1 in /usr/local/lib/python3.7/dist-packages (from matplotlib->pygbif) (2.4.7)\n",
            "Requirement already satisfied: cycler>=0.10 in /usr/local/lib/python3.7/dist-packages (from matplotlib->pygbif) (0.10.0)\n",
            "Requirement already satisfied: numpy>=1.11 in /usr/local/lib/python3.7/dist-packages (from matplotlib->pygbif) (1.19.5)\n",
            "Requirement already satisfied: six in /usr/local/lib/python3.7/dist-packages (from geomet->pygbif) (1.15.0)\n",
            "Requirement already satisfied: click in /usr/local/lib/python3.7/dist-packages (from geomet->pygbif) (8.0.0)\n",
            "Requirement already satisfied: certifi>=2017.4.17 in /usr/local/lib/python3.7/dist-packages (from requests>2.7->pygbif) (2020.12.5)\n",
            "Requirement already satisfied: chardet<4,>=3.0.2 in /usr/local/lib/python3.7/dist-packages (from requests>2.7->pygbif) (3.0.4)\n",
            "Requirement already satisfied: idna<3,>=2.5 in /usr/local/lib/python3.7/dist-packages (from requests>2.7->pygbif) (2.10)\n",
            "Requirement already satisfied: urllib3!=1.25.0,!=1.25.1,<1.26,>=1.21.1 in /usr/local/lib/python3.7/dist-packages (from requests>2.7->pygbif) (1.24.3)\n",
            "Requirement already satisfied: itsdangerous in /usr/local/lib/python3.7/dist-packages (from requests-cache->pygbif) (2.0.0)\n",
            "Requirement already satisfied: url-normalize>=1.4 in /usr/local/lib/python3.7/dist-packages (from requests-cache->pygbif) (1.4.3)\n"
          ],
          "name": "stdout"
        }
      ]
    },
    {
      "cell_type": "code",
      "metadata": {
        "id": "yIxZ31XMrorH"
      },
      "source": [
        "import pandas as pd\n",
        "import plotly\n",
        "import plotly.express as px\n",
        "import numpy as np\n",
        "import plotly.io as pio\n",
        "\n",
        "from pygbif import species"
      ],
      "execution_count": 54,
      "outputs": []
    },
    {
      "cell_type": "code",
      "metadata": {
        "colab": {
          "base_uri": "https://localhost:8080/",
          "height": 35
        },
        "id": "cpXn09ujFryD",
        "outputId": "65b36d7d-a2f6-46c5-98e6-009ba31f8624"
      },
      "source": [
        "plotly.__version__"
      ],
      "execution_count": 55,
      "outputs": [
        {
          "output_type": "execute_result",
          "data": {
            "application/vnd.google.colaboratory.intrinsic+json": {
              "type": "string"
            },
            "text/plain": [
              "'4.14.3'"
            ]
          },
          "metadata": {
            "tags": []
          },
          "execution_count": 55
        }
      ]
    },
    {
      "cell_type": "code",
      "metadata": {
        "id": "Ty4HR8sHtDHF"
      },
      "source": [
        "full_data = pd.read_csv('/content/gdrive/My Drive/Colab Notebooks/datasets/laji/laji_animalia.tsv',sep='\\t')"
      ],
      "execution_count": 56,
      "outputs": []
    },
    {
      "cell_type": "code",
      "metadata": {
        "colab": {
          "base_uri": "https://localhost:8080/",
          "height": 496
        },
        "id": "MVrQhC5Jvo9K",
        "outputId": "e5c33e5f-33da-4c8c-ce6c-61d45741eaa9"
      },
      "source": [
        "full_data.head()"
      ],
      "execution_count": 57,
      "outputs": [
        {
          "output_type": "execute_result",
          "data": {
            "text/html": [
              "<div>\n",
              "<style scoped>\n",
              "    .dataframe tbody tr th:only-of-type {\n",
              "        vertical-align: middle;\n",
              "    }\n",
              "\n",
              "    .dataframe tbody tr th {\n",
              "        vertical-align: top;\n",
              "    }\n",
              "\n",
              "    .dataframe thead th {\n",
              "        text-align: right;\n",
              "    }\n",
              "</style>\n",
              "<table border=\"1\" class=\"dataframe\">\n",
              "  <thead>\n",
              "    <tr style=\"text-align: right;\">\n",
              "      <th></th>\n",
              "      <th>Suositeltu yleiskielinen nimi</th>\n",
              "      <th>Tieteellinen nimi</th>\n",
              "      <th>Esiintymisen tyyppi</th>\n",
              "      <th>Uhanalaisuusluokka</th>\n",
              "      <th>Hallinnollinen asema</th>\n",
              "      <th>Synonyymit</th>\n",
              "      <th>Englanninkielinen nimi</th>\n",
              "      <th>Eliöryhmät</th>\n",
              "      <th>Kunta, Tieteellinen nimi</th>\n",
              "      <th>Kunta, Auktorit</th>\n",
              "      <th>Pääjakso, Tieteellinen nimi</th>\n",
              "      <th>Pääjakso, Auktorit</th>\n",
              "      <th>Alajakso, Tieteellinen nimi</th>\n",
              "      <th>Alajakso, Auktorit</th>\n",
              "      <th>Luokka, Tieteellinen nimi</th>\n",
              "      <th>Luokka, Auktorit</th>\n",
              "      <th>Lahko, Tieteellinen nimi</th>\n",
              "      <th>Lahko, Auktorit</th>\n",
              "      <th>Heimo, Tieteellinen nimi</th>\n",
              "      <th>Heimo, Auktorit</th>\n",
              "      <th>Suku, Tieteellinen nimi</th>\n",
              "      <th>Suku, Auktorit</th>\n",
              "      <th>Laji, Tieteellinen nimi</th>\n",
              "      <th>Laji, Auktorit</th>\n",
              "      <th>Elinympäristöt</th>\n",
              "    </tr>\n",
              "  </thead>\n",
              "  <tbody>\n",
              "    <tr>\n",
              "      <th>0</th>\n",
              "      <td>kivikkosiimahäntä</td>\n",
              "      <td>Dilta hibernica</td>\n",
              "      <td>Vakiintunut</td>\n",
              "      <td>LC (2019)</td>\n",
              "      <td>NaN</td>\n",
              "      <td>NaN</td>\n",
              "      <td>NaN</td>\n",
              "      <td>Hyönteiset ja hämähäkkieläimet</td>\n",
              "      <td>Animalia</td>\n",
              "      <td>Linnaeus, 1758</td>\n",
              "      <td>Arthropoda</td>\n",
              "      <td>von Siebold, 1848</td>\n",
              "      <td>Hexapoda</td>\n",
              "      <td>NaN</td>\n",
              "      <td>Insecta</td>\n",
              "      <td>NaN</td>\n",
              "      <td>Archaeognatha</td>\n",
              "      <td>NaN</td>\n",
              "      <td>Machilidae</td>\n",
              "      <td>Grassi, 1888</td>\n",
              "      <td>Dilta</td>\n",
              "      <td>Strand, 1911</td>\n",
              "      <td>Dilta hibernica</td>\n",
              "      <td>(Carpenter, 1907)</td>\n",
              "      <td>Ml – lehdot (myös kuusivaltaiset); Mkt – tuore...</td>\n",
              "    </tr>\n",
              "    <tr>\n",
              "      <th>1</th>\n",
              "      <td>rantasiimahäntä</td>\n",
              "      <td>Petrobius brevistylis</td>\n",
              "      <td>Vakiintunut</td>\n",
              "      <td>DD (2019)</td>\n",
              "      <td>NaN</td>\n",
              "      <td>Petrobius balticus Stach, 1921</td>\n",
              "      <td>NaN</td>\n",
              "      <td>Hyönteiset ja hämähäkkieläimet</td>\n",
              "      <td>Animalia</td>\n",
              "      <td>Linnaeus, 1758</td>\n",
              "      <td>Arthropoda</td>\n",
              "      <td>von Siebold, 1848</td>\n",
              "      <td>Hexapoda</td>\n",
              "      <td>NaN</td>\n",
              "      <td>Insecta</td>\n",
              "      <td>NaN</td>\n",
              "      <td>Archaeognatha</td>\n",
              "      <td>NaN</td>\n",
              "      <td>Machilidae</td>\n",
              "      <td>Grassi, 1888</td>\n",
              "      <td>Petrobius</td>\n",
              "      <td>Leach, 1809</td>\n",
              "      <td>Petrobius brevistylis</td>\n",
              "      <td>Carpenter, 1913</td>\n",
              "      <td>Ris – sora-, somerikko- ja kivikkorannat</td>\n",
              "    </tr>\n",
              "    <tr>\n",
              "      <th>2</th>\n",
              "      <td>sokeritoukka</td>\n",
              "      <td>Lepisma saccharinum</td>\n",
              "      <td>Vakiintunut</td>\n",
              "      <td>LC (2019)</td>\n",
              "      <td>NaN</td>\n",
              "      <td>Lepisma saccharina Linnaeus, 1758</td>\n",
              "      <td>Silverpil</td>\n",
              "      <td>Hyönteiset ja hämähäkkieläimet</td>\n",
              "      <td>Animalia</td>\n",
              "      <td>Linnaeus, 1758</td>\n",
              "      <td>Arthropoda</td>\n",
              "      <td>von Siebold, 1848</td>\n",
              "      <td>Hexapoda</td>\n",
              "      <td>NaN</td>\n",
              "      <td>Insecta</td>\n",
              "      <td>NaN</td>\n",
              "      <td>Zygentoma</td>\n",
              "      <td>NaN</td>\n",
              "      <td>Lepismatidae</td>\n",
              "      <td>NaN</td>\n",
              "      <td>Lepisma</td>\n",
              "      <td>Linnaeus, 1758</td>\n",
              "      <td>Lepisma saccharinum</td>\n",
              "      <td>Linnaeus, 1758</td>\n",
              "      <td>Ir – rakennukset ja rakenteet</td>\n",
              "    </tr>\n",
              "    <tr>\n",
              "      <th>3</th>\n",
              "      <td>uunitoukka</td>\n",
              "      <td>Thermobia domestica</td>\n",
              "      <td>Vakiintunut, Ihmisen vaikutuksesta</td>\n",
              "      <td>NA (2019)</td>\n",
              "      <td>Kansallinen vieraslajistrategia (VN 5.3.2012)</td>\n",
              "      <td>Thermobia inquilina (Newman, 1863)</td>\n",
              "      <td>NaN</td>\n",
              "      <td>Hyönteiset ja hämähäkkieläimet</td>\n",
              "      <td>Animalia</td>\n",
              "      <td>Linnaeus, 1758</td>\n",
              "      <td>Arthropoda</td>\n",
              "      <td>von Siebold, 1848</td>\n",
              "      <td>Hexapoda</td>\n",
              "      <td>NaN</td>\n",
              "      <td>Insecta</td>\n",
              "      <td>NaN</td>\n",
              "      <td>Zygentoma</td>\n",
              "      <td>NaN</td>\n",
              "      <td>Lepismatidae</td>\n",
              "      <td>NaN</td>\n",
              "      <td>Thermobia</td>\n",
              "      <td>Bergroth, 1890</td>\n",
              "      <td>Thermobia domestica</td>\n",
              "      <td>(Packard, 1837)</td>\n",
              "      <td>Ir – rakennukset ja rakenteet</td>\n",
              "    </tr>\n",
              "    <tr>\n",
              "      <th>4</th>\n",
              "      <td>paanutoukka</td>\n",
              "      <td>Ctenolepisma lineatum</td>\n",
              "      <td>Ihmisen vaikutuksesta</td>\n",
              "      <td>NA (2019)</td>\n",
              "      <td>NaN</td>\n",
              "      <td>Ctenolepisma lineata (Fabricius, 1775)</td>\n",
              "      <td>NaN</td>\n",
              "      <td>Hyönteiset ja hämähäkkieläimet</td>\n",
              "      <td>Animalia</td>\n",
              "      <td>Linnaeus, 1758</td>\n",
              "      <td>Arthropoda</td>\n",
              "      <td>von Siebold, 1848</td>\n",
              "      <td>Hexapoda</td>\n",
              "      <td>NaN</td>\n",
              "      <td>Insecta</td>\n",
              "      <td>NaN</td>\n",
              "      <td>Zygentoma</td>\n",
              "      <td>NaN</td>\n",
              "      <td>Lepismatidae</td>\n",
              "      <td>NaN</td>\n",
              "      <td>Ctenolepisma</td>\n",
              "      <td>Escherich, 1905</td>\n",
              "      <td>Ctenolepisma lineatum</td>\n",
              "      <td>Fabricius, 1775</td>\n",
              "      <td>Ir – rakennukset ja rakenteet</td>\n",
              "    </tr>\n",
              "  </tbody>\n",
              "</table>\n",
              "</div>"
            ],
            "text/plain": [
              "  Suositeltu yleiskielinen nimi  ...                                     Elinympäristöt\n",
              "0             kivikkosiimahäntä  ...  Ml – lehdot (myös kuusivaltaiset); Mkt – tuore...\n",
              "1               rantasiimahäntä  ...           Ris – sora-, somerikko- ja kivikkorannat\n",
              "2                  sokeritoukka  ...                      Ir – rakennukset ja rakenteet\n",
              "3                    uunitoukka  ...                      Ir – rakennukset ja rakenteet\n",
              "4                   paanutoukka  ...                      Ir – rakennukset ja rakenteet\n",
              "\n",
              "[5 rows x 25 columns]"
            ]
          },
          "metadata": {
            "tags": []
          },
          "execution_count": 57
        }
      ]
    },
    {
      "cell_type": "code",
      "metadata": {
        "id": "6qcd1RBXxC5R"
      },
      "source": [
        "df = full_data.drop(['Kunta, Auktorit', 'Pääjakso, Auktorit', 'Alajakso, Auktorit', 'Luokka, Auktorit', 'Lahko, Auktorit', 'Heimo, Auktorit', 'Suku, Auktorit', 'Laji, Auktorit'], axis = 1)"
      ],
      "execution_count": 58,
      "outputs": []
    },
    {
      "cell_type": "code",
      "metadata": {
        "colab": {
          "base_uri": "https://localhost:8080/",
          "height": 459
        },
        "id": "AEyX8QPD_H41",
        "outputId": "ac0e7a93-4abf-4d64-aa71-d3b7eac5f3b6"
      },
      "source": [
        "df = df.rename(columns = {'Kunta, Tieteellinen nimi': 'Kunta', 'Pääjakso, Tieteellinen nimi': 'Pääjakso', 'Alajakso, Tieteellinen nimi': 'Alajakso',\n",
        "                          'Luokka, Tieteellinen nimi': 'Luokka', 'Lahko, Tieteellinen nimi': 'Lahko', 'Heimo, Tieteellinen nimi': 'Heimo',\n",
        "                          'Suku, Tieteellinen nimi': 'Suku', 'Laji, Tieteellinen nimi': 'Laji', 'Uhanalaisuusluokka': 'ConservationStatus',\n",
        "                          'Suositeltu yleiskielinen nimi': 'Name_FIN', 'Englanninkielinen nimi': 'Name_ENG', 'Hallinnollinen asema': 'HallinnollinenAsema'}, inplace = False)\n",
        "df.head()"
      ],
      "execution_count": 59,
      "outputs": [
        {
          "output_type": "execute_result",
          "data": {
            "text/html": [
              "<div>\n",
              "<style scoped>\n",
              "    .dataframe tbody tr th:only-of-type {\n",
              "        vertical-align: middle;\n",
              "    }\n",
              "\n",
              "    .dataframe tbody tr th {\n",
              "        vertical-align: top;\n",
              "    }\n",
              "\n",
              "    .dataframe thead th {\n",
              "        text-align: right;\n",
              "    }\n",
              "</style>\n",
              "<table border=\"1\" class=\"dataframe\">\n",
              "  <thead>\n",
              "    <tr style=\"text-align: right;\">\n",
              "      <th></th>\n",
              "      <th>Name_FIN</th>\n",
              "      <th>Tieteellinen nimi</th>\n",
              "      <th>Esiintymisen tyyppi</th>\n",
              "      <th>ConservationStatus</th>\n",
              "      <th>HallinnollinenAsema</th>\n",
              "      <th>Synonyymit</th>\n",
              "      <th>Name_ENG</th>\n",
              "      <th>Eliöryhmät</th>\n",
              "      <th>Kunta</th>\n",
              "      <th>Pääjakso</th>\n",
              "      <th>Alajakso</th>\n",
              "      <th>Luokka</th>\n",
              "      <th>Lahko</th>\n",
              "      <th>Heimo</th>\n",
              "      <th>Suku</th>\n",
              "      <th>Laji</th>\n",
              "      <th>Elinympäristöt</th>\n",
              "    </tr>\n",
              "  </thead>\n",
              "  <tbody>\n",
              "    <tr>\n",
              "      <th>0</th>\n",
              "      <td>kivikkosiimahäntä</td>\n",
              "      <td>Dilta hibernica</td>\n",
              "      <td>Vakiintunut</td>\n",
              "      <td>LC (2019)</td>\n",
              "      <td>NaN</td>\n",
              "      <td>NaN</td>\n",
              "      <td>NaN</td>\n",
              "      <td>Hyönteiset ja hämähäkkieläimet</td>\n",
              "      <td>Animalia</td>\n",
              "      <td>Arthropoda</td>\n",
              "      <td>Hexapoda</td>\n",
              "      <td>Insecta</td>\n",
              "      <td>Archaeognatha</td>\n",
              "      <td>Machilidae</td>\n",
              "      <td>Dilta</td>\n",
              "      <td>Dilta hibernica</td>\n",
              "      <td>Ml – lehdot (myös kuusivaltaiset); Mkt – tuore...</td>\n",
              "    </tr>\n",
              "    <tr>\n",
              "      <th>1</th>\n",
              "      <td>rantasiimahäntä</td>\n",
              "      <td>Petrobius brevistylis</td>\n",
              "      <td>Vakiintunut</td>\n",
              "      <td>DD (2019)</td>\n",
              "      <td>NaN</td>\n",
              "      <td>Petrobius balticus Stach, 1921</td>\n",
              "      <td>NaN</td>\n",
              "      <td>Hyönteiset ja hämähäkkieläimet</td>\n",
              "      <td>Animalia</td>\n",
              "      <td>Arthropoda</td>\n",
              "      <td>Hexapoda</td>\n",
              "      <td>Insecta</td>\n",
              "      <td>Archaeognatha</td>\n",
              "      <td>Machilidae</td>\n",
              "      <td>Petrobius</td>\n",
              "      <td>Petrobius brevistylis</td>\n",
              "      <td>Ris – sora-, somerikko- ja kivikkorannat</td>\n",
              "    </tr>\n",
              "    <tr>\n",
              "      <th>2</th>\n",
              "      <td>sokeritoukka</td>\n",
              "      <td>Lepisma saccharinum</td>\n",
              "      <td>Vakiintunut</td>\n",
              "      <td>LC (2019)</td>\n",
              "      <td>NaN</td>\n",
              "      <td>Lepisma saccharina Linnaeus, 1758</td>\n",
              "      <td>Silverpil</td>\n",
              "      <td>Hyönteiset ja hämähäkkieläimet</td>\n",
              "      <td>Animalia</td>\n",
              "      <td>Arthropoda</td>\n",
              "      <td>Hexapoda</td>\n",
              "      <td>Insecta</td>\n",
              "      <td>Zygentoma</td>\n",
              "      <td>Lepismatidae</td>\n",
              "      <td>Lepisma</td>\n",
              "      <td>Lepisma saccharinum</td>\n",
              "      <td>Ir – rakennukset ja rakenteet</td>\n",
              "    </tr>\n",
              "    <tr>\n",
              "      <th>3</th>\n",
              "      <td>uunitoukka</td>\n",
              "      <td>Thermobia domestica</td>\n",
              "      <td>Vakiintunut, Ihmisen vaikutuksesta</td>\n",
              "      <td>NA (2019)</td>\n",
              "      <td>Kansallinen vieraslajistrategia (VN 5.3.2012)</td>\n",
              "      <td>Thermobia inquilina (Newman, 1863)</td>\n",
              "      <td>NaN</td>\n",
              "      <td>Hyönteiset ja hämähäkkieläimet</td>\n",
              "      <td>Animalia</td>\n",
              "      <td>Arthropoda</td>\n",
              "      <td>Hexapoda</td>\n",
              "      <td>Insecta</td>\n",
              "      <td>Zygentoma</td>\n",
              "      <td>Lepismatidae</td>\n",
              "      <td>Thermobia</td>\n",
              "      <td>Thermobia domestica</td>\n",
              "      <td>Ir – rakennukset ja rakenteet</td>\n",
              "    </tr>\n",
              "    <tr>\n",
              "      <th>4</th>\n",
              "      <td>paanutoukka</td>\n",
              "      <td>Ctenolepisma lineatum</td>\n",
              "      <td>Ihmisen vaikutuksesta</td>\n",
              "      <td>NA (2019)</td>\n",
              "      <td>NaN</td>\n",
              "      <td>Ctenolepisma lineata (Fabricius, 1775)</td>\n",
              "      <td>NaN</td>\n",
              "      <td>Hyönteiset ja hämähäkkieläimet</td>\n",
              "      <td>Animalia</td>\n",
              "      <td>Arthropoda</td>\n",
              "      <td>Hexapoda</td>\n",
              "      <td>Insecta</td>\n",
              "      <td>Zygentoma</td>\n",
              "      <td>Lepismatidae</td>\n",
              "      <td>Ctenolepisma</td>\n",
              "      <td>Ctenolepisma lineatum</td>\n",
              "      <td>Ir – rakennukset ja rakenteet</td>\n",
              "    </tr>\n",
              "  </tbody>\n",
              "</table>\n",
              "</div>"
            ],
            "text/plain": [
              "            Name_FIN  ...                                     Elinympäristöt\n",
              "0  kivikkosiimahäntä  ...  Ml – lehdot (myös kuusivaltaiset); Mkt – tuore...\n",
              "1    rantasiimahäntä  ...           Ris – sora-, somerikko- ja kivikkorannat\n",
              "2       sokeritoukka  ...                      Ir – rakennukset ja rakenteet\n",
              "3         uunitoukka  ...                      Ir – rakennukset ja rakenteet\n",
              "4        paanutoukka  ...                      Ir – rakennukset ja rakenteet\n",
              "\n",
              "[5 rows x 17 columns]"
            ]
          },
          "metadata": {
            "tags": []
          },
          "execution_count": 59
        }
      ]
    },
    {
      "cell_type": "code",
      "metadata": {
        "colab": {
          "base_uri": "https://localhost:8080/",
          "height": 114
        },
        "id": "ZEqRmmtvko2Q",
        "outputId": "ae173679-82df-4bea-e7cb-eb5ff27fc217"
      },
      "source": [
        "#testing mislabeled specie in fig, works here.\n",
        "df[df['Name_FIN'] == 'alppikiitäjä']"
      ],
      "execution_count": 60,
      "outputs": [
        {
          "output_type": "execute_result",
          "data": {
            "text/html": [
              "<div>\n",
              "<style scoped>\n",
              "    .dataframe tbody tr th:only-of-type {\n",
              "        vertical-align: middle;\n",
              "    }\n",
              "\n",
              "    .dataframe tbody tr th {\n",
              "        vertical-align: top;\n",
              "    }\n",
              "\n",
              "    .dataframe thead th {\n",
              "        text-align: right;\n",
              "    }\n",
              "</style>\n",
              "<table border=\"1\" class=\"dataframe\">\n",
              "  <thead>\n",
              "    <tr style=\"text-align: right;\">\n",
              "      <th></th>\n",
              "      <th>Name_FIN</th>\n",
              "      <th>Tieteellinen nimi</th>\n",
              "      <th>Esiintymisen tyyppi</th>\n",
              "      <th>ConservationStatus</th>\n",
              "      <th>HallinnollinenAsema</th>\n",
              "      <th>Synonyymit</th>\n",
              "      <th>Name_ENG</th>\n",
              "      <th>Eliöryhmät</th>\n",
              "      <th>Kunta</th>\n",
              "      <th>Pääjakso</th>\n",
              "      <th>Alajakso</th>\n",
              "      <th>Luokka</th>\n",
              "      <th>Lahko</th>\n",
              "      <th>Heimo</th>\n",
              "      <th>Suku</th>\n",
              "      <th>Laji</th>\n",
              "      <th>Elinympäristöt</th>\n",
              "    </tr>\n",
              "  </thead>\n",
              "  <tbody>\n",
              "    <tr>\n",
              "      <th>26814</th>\n",
              "      <td>alppikiitäjä</td>\n",
              "      <td>Tachymarptis melba</td>\n",
              "      <td>NaN</td>\n",
              "      <td>NaN</td>\n",
              "      <td>NaN</td>\n",
              "      <td>Apus melba</td>\n",
              "      <td>Alpine Swift</td>\n",
              "      <td>Linnut</td>\n",
              "      <td>Animalia</td>\n",
              "      <td>Chordata</td>\n",
              "      <td>Vertebrata</td>\n",
              "      <td>Aves</td>\n",
              "      <td>Caprimulgiformes</td>\n",
              "      <td>Apodidae</td>\n",
              "      <td>Tachymarptis</td>\n",
              "      <td>Tachymarptis melba</td>\n",
              "      <td>NaN</td>\n",
              "    </tr>\n",
              "  </tbody>\n",
              "</table>\n",
              "</div>"
            ],
            "text/plain": [
              "           Name_FIN   Tieteellinen nimi  ...                Laji Elinympäristöt\n",
              "26814  alppikiitäjä  Tachymarptis melba  ...  Tachymarptis melba            NaN\n",
              "\n",
              "[1 rows x 17 columns]"
            ]
          },
          "metadata": {
            "tags": []
          },
          "execution_count": 60
        }
      ]
    },
    {
      "cell_type": "code",
      "metadata": {
        "colab": {
          "base_uri": "https://localhost:8080/"
        },
        "id": "AN7oJjK6v-Gk",
        "outputId": "44a80314-5683-4089-d91d-98b8a04739ae"
      },
      "source": [
        "df.iloc[14050]"
      ],
      "execution_count": 61,
      "outputs": [
        {
          "output_type": "execute_result",
          "data": {
            "text/plain": [
              "Name_FIN                                                  tuonensirvikäs\n",
              "Tieteellinen nimi                                    Oligotricha striata\n",
              "Esiintymisen tyyppi                                 Vakiintunut, Yleinen\n",
              "ConservationStatus                                             LC (2019)\n",
              "HallinnollinenAsema                                                  NaN\n",
              "Synonyymit                                                           NaN\n",
              "Name_ENG                                                             NaN\n",
              "Eliöryhmät             Hyönteiset ja hämähäkkieläimet, Vesihyönteiset...\n",
              "Kunta                                                           Animalia\n",
              "Pääjakso                                                      Arthropoda\n",
              "Alajakso                                                        Hexapoda\n",
              "Luokka                                                           Insecta\n",
              "Lahko                                                        Trichoptera\n",
              "Heimo                                                       Phryganeidae\n",
              "Suku                                                         Oligotricha\n",
              "Laji                                                 Oligotricha striata\n",
              "Elinympäristöt         Va – lampareet ja allikot (myös rimmet); Io – ...\n",
              "Name: 14050, dtype: object"
            ]
          },
          "metadata": {
            "tags": []
          },
          "execution_count": 61
        }
      ]
    },
    {
      "cell_type": "code",
      "metadata": {
        "id": "sDpcxFZbwu8h",
        "colab": {
          "base_uri": "https://localhost:8080/",
          "height": 813
        },
        "outputId": "4011e082-55e1-40f5-d14d-bf42abadcad7"
      },
      "source": [
        "#df = df.replace(np.nan, None, regex=True)\n",
        "# testing whether removes empty leaves will resolve mismatched labels in fig\n",
        "df.dropna(subset = ['Kunta', 'Pääjakso', 'Alajakso', 'Luokka', 'Lahko', 'Heimo', 'Suku', 'Laji'])"
      ],
      "execution_count": 63,
      "outputs": [
        {
          "output_type": "execute_result",
          "data": {
            "text/html": [
              "<div>\n",
              "<style scoped>\n",
              "    .dataframe tbody tr th:only-of-type {\n",
              "        vertical-align: middle;\n",
              "    }\n",
              "\n",
              "    .dataframe tbody tr th {\n",
              "        vertical-align: top;\n",
              "    }\n",
              "\n",
              "    .dataframe thead th {\n",
              "        text-align: right;\n",
              "    }\n",
              "</style>\n",
              "<table border=\"1\" class=\"dataframe\">\n",
              "  <thead>\n",
              "    <tr style=\"text-align: right;\">\n",
              "      <th></th>\n",
              "      <th>Name_FIN</th>\n",
              "      <th>Tieteellinen nimi</th>\n",
              "      <th>Esiintymisen tyyppi</th>\n",
              "      <th>ConservationStatus</th>\n",
              "      <th>HallinnollinenAsema</th>\n",
              "      <th>Synonyymit</th>\n",
              "      <th>Name_ENG</th>\n",
              "      <th>Eliöryhmät</th>\n",
              "      <th>Kunta</th>\n",
              "      <th>Pääjakso</th>\n",
              "      <th>Alajakso</th>\n",
              "      <th>Luokka</th>\n",
              "      <th>Lahko</th>\n",
              "      <th>Heimo</th>\n",
              "      <th>Suku</th>\n",
              "      <th>Laji</th>\n",
              "      <th>Elinympäristöt</th>\n",
              "      <th>extinctness</th>\n",
              "    </tr>\n",
              "  </thead>\n",
              "  <tbody>\n",
              "    <tr>\n",
              "      <th>0</th>\n",
              "      <td>kivikkosiimahäntä</td>\n",
              "      <td>Dilta hibernica</td>\n",
              "      <td>Vakiintunut</td>\n",
              "      <td>LC (2019)</td>\n",
              "      <td>NaN</td>\n",
              "      <td>NaN</td>\n",
              "      <td>NaN</td>\n",
              "      <td>Hyönteiset ja hämähäkkieläimet</td>\n",
              "      <td>Animalia</td>\n",
              "      <td>Arthropoda</td>\n",
              "      <td>Hexapoda</td>\n",
              "      <td>Insecta</td>\n",
              "      <td>Archaeognatha</td>\n",
              "      <td>Machilidae</td>\n",
              "      <td>Dilta</td>\n",
              "      <td>Dilta hibernica</td>\n",
              "      <td>Ml – lehdot (myös kuusivaltaiset); Mkt – tuore...</td>\n",
              "      <td>1</td>\n",
              "    </tr>\n",
              "    <tr>\n",
              "      <th>1</th>\n",
              "      <td>rantasiimahäntä</td>\n",
              "      <td>Petrobius brevistylis</td>\n",
              "      <td>Vakiintunut</td>\n",
              "      <td>DD (2019)</td>\n",
              "      <td>NaN</td>\n",
              "      <td>Petrobius balticus Stach, 1921</td>\n",
              "      <td>NaN</td>\n",
              "      <td>Hyönteiset ja hämähäkkieläimet</td>\n",
              "      <td>Animalia</td>\n",
              "      <td>Arthropoda</td>\n",
              "      <td>Hexapoda</td>\n",
              "      <td>Insecta</td>\n",
              "      <td>Archaeognatha</td>\n",
              "      <td>Machilidae</td>\n",
              "      <td>Petrobius</td>\n",
              "      <td>Petrobius brevistylis</td>\n",
              "      <td>Ris – sora-, somerikko- ja kivikkorannat</td>\n",
              "      <td>1</td>\n",
              "    </tr>\n",
              "    <tr>\n",
              "      <th>2</th>\n",
              "      <td>sokeritoukka</td>\n",
              "      <td>Lepisma saccharinum</td>\n",
              "      <td>Vakiintunut</td>\n",
              "      <td>LC (2019)</td>\n",
              "      <td>NaN</td>\n",
              "      <td>Lepisma saccharina Linnaeus, 1758</td>\n",
              "      <td>Silverpil</td>\n",
              "      <td>Hyönteiset ja hämähäkkieläimet</td>\n",
              "      <td>Animalia</td>\n",
              "      <td>Arthropoda</td>\n",
              "      <td>Hexapoda</td>\n",
              "      <td>Insecta</td>\n",
              "      <td>Zygentoma</td>\n",
              "      <td>Lepismatidae</td>\n",
              "      <td>Lepisma</td>\n",
              "      <td>Lepisma saccharinum</td>\n",
              "      <td>Ir – rakennukset ja rakenteet</td>\n",
              "      <td>1</td>\n",
              "    </tr>\n",
              "    <tr>\n",
              "      <th>3</th>\n",
              "      <td>uunitoukka</td>\n",
              "      <td>Thermobia domestica</td>\n",
              "      <td>Vakiintunut, Ihmisen vaikutuksesta</td>\n",
              "      <td>NA (2019)</td>\n",
              "      <td>Kansallinen vieraslajistrategia (VN 5.3.2012)</td>\n",
              "      <td>Thermobia inquilina (Newman, 1863)</td>\n",
              "      <td>NaN</td>\n",
              "      <td>Hyönteiset ja hämähäkkieläimet</td>\n",
              "      <td>Animalia</td>\n",
              "      <td>Arthropoda</td>\n",
              "      <td>Hexapoda</td>\n",
              "      <td>Insecta</td>\n",
              "      <td>Zygentoma</td>\n",
              "      <td>Lepismatidae</td>\n",
              "      <td>Thermobia</td>\n",
              "      <td>Thermobia domestica</td>\n",
              "      <td>Ir – rakennukset ja rakenteet</td>\n",
              "      <td>1</td>\n",
              "    </tr>\n",
              "    <tr>\n",
              "      <th>4</th>\n",
              "      <td>paanutoukka</td>\n",
              "      <td>Ctenolepisma lineatum</td>\n",
              "      <td>Ihmisen vaikutuksesta</td>\n",
              "      <td>NA (2019)</td>\n",
              "      <td>NaN</td>\n",
              "      <td>Ctenolepisma lineata (Fabricius, 1775)</td>\n",
              "      <td>NaN</td>\n",
              "      <td>Hyönteiset ja hämähäkkieläimet</td>\n",
              "      <td>Animalia</td>\n",
              "      <td>Arthropoda</td>\n",
              "      <td>Hexapoda</td>\n",
              "      <td>Insecta</td>\n",
              "      <td>Zygentoma</td>\n",
              "      <td>Lepismatidae</td>\n",
              "      <td>Ctenolepisma</td>\n",
              "      <td>Ctenolepisma lineatum</td>\n",
              "      <td>Ir – rakennukset ja rakenteet</td>\n",
              "      <td>1</td>\n",
              "    </tr>\n",
              "    <tr>\n",
              "      <th>...</th>\n",
              "      <td>...</td>\n",
              "      <td>...</td>\n",
              "      <td>...</td>\n",
              "      <td>...</td>\n",
              "      <td>...</td>\n",
              "      <td>...</td>\n",
              "      <td>...</td>\n",
              "      <td>...</td>\n",
              "      <td>...</td>\n",
              "      <td>...</td>\n",
              "      <td>...</td>\n",
              "      <td>...</td>\n",
              "      <td>...</td>\n",
              "      <td>...</td>\n",
              "      <td>...</td>\n",
              "      <td>...</td>\n",
              "      <td>...</td>\n",
              "      <td>...</td>\n",
              "    </tr>\n",
              "    <tr>\n",
              "      <th>27434</th>\n",
              "      <td>särmäneula</td>\n",
              "      <td>Syngnathus typhle</td>\n",
              "      <td>Vakiintunut</td>\n",
              "      <td>LC (2019)</td>\n",
              "      <td>NaN</td>\n",
              "      <td>NaN</td>\n",
              "      <td>Broadnosed pipefish</td>\n",
              "      <td>Kalat</td>\n",
              "      <td>Animalia</td>\n",
              "      <td>Chordata</td>\n",
              "      <td>Vertebrata</td>\n",
              "      <td>Actinopterygii</td>\n",
              "      <td>Syngnathiformes</td>\n",
              "      <td>Syngnathidae</td>\n",
              "      <td>Syngnathus</td>\n",
              "      <td>Syngnathus typhle</td>\n",
              "      <td>Vi – Itämeri</td>\n",
              "      <td>1</td>\n",
              "    </tr>\n",
              "    <tr>\n",
              "      <th>27435</th>\n",
              "      <td>merinahkiainen</td>\n",
              "      <td>Petromyzon marinus</td>\n",
              "      <td>Säännöllinen harhailija</td>\n",
              "      <td>NaN</td>\n",
              "      <td>NaN</td>\n",
              "      <td>NaN</td>\n",
              "      <td>Sea lamprey</td>\n",
              "      <td>Kalat</td>\n",
              "      <td>Animalia</td>\n",
              "      <td>Chordata</td>\n",
              "      <td>Vertebrata</td>\n",
              "      <td>Cephalaspidomorphi</td>\n",
              "      <td>Petromyzontiformes</td>\n",
              "      <td>Petromyzontidae</td>\n",
              "      <td>Petromyzon</td>\n",
              "      <td>Petromyzon marinus</td>\n",
              "      <td>NaN</td>\n",
              "      <td>1</td>\n",
              "    </tr>\n",
              "    <tr>\n",
              "      <th>27436</th>\n",
              "      <td>nahkiainen</td>\n",
              "      <td>Lampetra fluviatilis</td>\n",
              "      <td>Vakiintunut</td>\n",
              "      <td>NT (2019)</td>\n",
              "      <td>EU:n luontodirektiivin II-liite, Suomi saanut ...</td>\n",
              "      <td>NaN</td>\n",
              "      <td>River lamprey</td>\n",
              "      <td>Kalat</td>\n",
              "      <td>Animalia</td>\n",
              "      <td>Chordata</td>\n",
              "      <td>Vertebrata</td>\n",
              "      <td>Cephalaspidomorphi</td>\n",
              "      <td>Petromyzontiformes</td>\n",
              "      <td>Petromyzontidae</td>\n",
              "      <td>Lampetra</td>\n",
              "      <td>Lampetra fluviatilis</td>\n",
              "      <td>Vj – joet; Vi – Itämeri; Vk – kosket; Vsk – ka...</td>\n",
              "      <td>1</td>\n",
              "    </tr>\n",
              "    <tr>\n",
              "      <th>27437</th>\n",
              "      <td>pikkunahkiainen</td>\n",
              "      <td>Lampetra planeri</td>\n",
              "      <td>Vakiintunut</td>\n",
              "      <td>LC (2019)</td>\n",
              "      <td>EU:n luontodirektiivin II-liite, EU:n luontodi...</td>\n",
              "      <td>NaN</td>\n",
              "      <td>Brook lamprey</td>\n",
              "      <td>Kalat</td>\n",
              "      <td>Animalia</td>\n",
              "      <td>Chordata</td>\n",
              "      <td>Vertebrata</td>\n",
              "      <td>Cephalaspidomorphi</td>\n",
              "      <td>Petromyzontiformes</td>\n",
              "      <td>Petromyzontidae</td>\n",
              "      <td>Lampetra</td>\n",
              "      <td>Lampetra planeri</td>\n",
              "      <td>Vp – purot ja norot; Vj – joet</td>\n",
              "      <td>1</td>\n",
              "    </tr>\n",
              "    <tr>\n",
              "      <th>27438</th>\n",
              "      <td>pyrstökäs</td>\n",
              "      <td>Fritillaria borealis</td>\n",
              "      <td>NaN</td>\n",
              "      <td>NaN</td>\n",
              "      <td>NaN</td>\n",
              "      <td>NaN</td>\n",
              "      <td>NaN</td>\n",
              "      <td>Muut organismit</td>\n",
              "      <td>Animalia</td>\n",
              "      <td>Chordata</td>\n",
              "      <td>Tunicata</td>\n",
              "      <td>Appendicularia</td>\n",
              "      <td>Copelata</td>\n",
              "      <td>Fritillariidae</td>\n",
              "      <td>Fritillaria</td>\n",
              "      <td>Fritillaria borealis</td>\n",
              "      <td>NaN</td>\n",
              "      <td>1</td>\n",
              "    </tr>\n",
              "  </tbody>\n",
              "</table>\n",
              "<p>27416 rows × 18 columns</p>\n",
              "</div>"
            ],
            "text/plain": [
              "                Name_FIN  ... extinctness\n",
              "0      kivikkosiimahäntä  ...           1\n",
              "1        rantasiimahäntä  ...           1\n",
              "2           sokeritoukka  ...           1\n",
              "3             uunitoukka  ...           1\n",
              "4            paanutoukka  ...           1\n",
              "...                  ...  ...         ...\n",
              "27434         särmäneula  ...           1\n",
              "27435     merinahkiainen  ...           1\n",
              "27436         nahkiainen  ...           1\n",
              "27437    pikkunahkiainen  ...           1\n",
              "27438          pyrstökäs  ...           1\n",
              "\n",
              "[27416 rows x 18 columns]"
            ]
          },
          "metadata": {
            "tags": []
          },
          "execution_count": 63
        }
      ]
    },
    {
      "cell_type": "code",
      "metadata": {
        "colab": {
          "base_uri": "https://localhost:8080/"
        },
        "id": "1H3MJgAbF3fS",
        "outputId": "92d6594a-b2a0-497a-8191-597d9dda15d9"
      },
      "source": [
        "df.ConservationStatus.unique()"
      ],
      "execution_count": 64,
      "outputs": [
        {
          "output_type": "execute_result",
          "data": {
            "text/plain": [
              "array(['LC (2019)', 'DD (2019)', 'NA (2019)', nan, 'EN (2019)',\n",
              "       'VU (2019)', 'NT (2019)', 'CR (2019)', 'NE (2019)', 'RE (2019)',\n",
              "       'NA (2010)', 'NE (2010)', 'LC (2010)', 'DD (2010)', 'EN (2000)',\n",
              "       'NT (2000)', 'LC (2000)', 'VU (2010)', 'NT (2010)', 'VU (2015)'],\n",
              "      dtype=object)"
            ]
          },
          "metadata": {
            "tags": []
          },
          "execution_count": 64
        }
      ]
    },
    {
      "cell_type": "code",
      "metadata": {
        "id": "_hTgS4vUScTp"
      },
      "source": [
        "# Endangernment Scores\n",
        "#LC (Least Concern)            100\n",
        "#NT (Near threatened)          66\n",
        "#VU (Vulnerable)               50\n",
        "#EN (Endangered)               33\n",
        "#CR (Critically endangered)    15\n",
        "#EW (Extinct in the wild)      5\n",
        "#EX (Extinct)                  1\n",
        "\n",
        "#DD (Data deficient)           50\n",
        "#NE (Near Extinct)             10\n",
        "\n",
        "#RE (Regionally Extinct)       1\n",
        "#NA (Not Applicable)           50\n",
        "df_conserv = df.copy()\n",
        "df_conserv[\"ConservationStatus\"] = df[\"ConservationStatus\"].map(lambda x: \"100\" if \"LC\" in  str(x) else \"66\" if \"NT\" in str(x) else \"50\" if \"VU\" in str(x) \n",
        "                                                                else \"33\" if \"EN\" in str(x) else \"15\" if \"CR\" in str(x) else \"50\" if \"DD\" in str(x) \n",
        "                                                                else \"10\" if \"NE\" in str(x) else \"1\" if \"RE\" in str(x) else \"50\" if \"NA\" in str(x) else \"50\") \n",
        "\n",
        "df_conserv[\"ConservationStatusText\"] = df[\"ConservationStatus\"].map(lambda x: \"Least Concern\" if \"LC\" in str(x) else \"Near Threatened\" if \"NT\" in str(x) \n",
        "                                                                    else \"Vulnerable\" if \"VU\" in str(x) else \"Endangered\" if \"EN\" in str(x) \n",
        "                                                                    else \"Critically Endangered\" if \"CR\" in str(x) else \"Data Deficient\" if \"DD\" in str(x) \n",
        "                                                                    else \"Near Extinct\" if \"NE\" in str(x) else \"Regionally Extinct\" if \"RE\" in str(x) \n",
        "                                                                    else \"Not Applicable\" if \"NA\" in str(x) else \"\")"
      ],
      "execution_count": 65,
      "outputs": []
    },
    {
      "cell_type": "code",
      "metadata": {
        "colab": {
          "base_uri": "https://localhost:8080/"
        },
        "id": "bEEi3zcmQeQP",
        "outputId": "cda964bf-2743-428e-8e38-f355f4cf215a"
      },
      "source": [
        "df_conserv[['ConservationStatusText', 'ConservationStatus']].head(), \n",
        "#df_conserv['ConservationStatusText'].head()"
      ],
      "execution_count": 66,
      "outputs": [
        {
          "output_type": "execute_result",
          "data": {
            "text/plain": [
              "(  ConservationStatusText ConservationStatus\n",
              " 0          Least Concern                100\n",
              " 1         Data Deficient                 50\n",
              " 2          Least Concern                100\n",
              " 3         Not Applicable                 50\n",
              " 4         Not Applicable                 50,)"
            ]
          },
          "metadata": {
            "tags": []
          },
          "execution_count": 66
        }
      ]
    },
    {
      "cell_type": "code",
      "metadata": {
        "id": "PIYugIFywwCr"
      },
      "source": [
        "# using the gbif api search to get most likely species id\n",
        "def get_gbif(x):\n",
        "  name = species.name_suggest(q=x)\n",
        "  if len(name)!=0:\n",
        "   return name[0].get('speciesKey')\n",
        "  return ''"
      ],
      "execution_count": 67,
      "outputs": []
    },
    {
      "cell_type": "code",
      "metadata": {
        "id": "E0N6waX-5LO0"
      },
      "source": [
        "import requests\n",
        "# using the gbif api to get species ids that have similar name\n",
        "def get_gbif_api(x):\n",
        "  url = \"https://api.gbif.org/v1/species/match?verbose=false&scientificName=\" + x\n",
        "  id = requests.get(url).json().get('speciesKey')\n",
        "  return id"
      ],
      "execution_count": 68,
      "outputs": []
    },
    {
      "cell_type": "code",
      "metadata": {
        "colab": {
          "base_uri": "https://localhost:8080/"
        },
        "id": "0a70IOqFw2gI",
        "outputId": "5e8429c6-ab0f-4b7e-d399-f4135163da44"
      },
      "source": [
        "get_gbif(\"Hyla arborea\")"
      ],
      "execution_count": 69,
      "outputs": [
        {
          "output_type": "execute_result",
          "data": {
            "text/plain": [
              "2427573"
            ]
          },
          "metadata": {
            "tags": []
          },
          "execution_count": 69
        }
      ]
    },
    {
      "cell_type": "code",
      "metadata": {
        "id": "8gqImSbtt4s-"
      },
      "source": [
        "# unfortunately using the api was too slow for the number of species data involved.\n",
        "#df_vertebrata['gbif_link'] = df_vertebrata['Laji'].apply(lambda x: get_gbif(x))"
      ],
      "execution_count": 70,
      "outputs": []
    },
    {
      "cell_type": "code",
      "metadata": {
        "colab": {
          "base_uri": "https://localhost:8080/"
        },
        "id": "5gFFWUJUlsuY",
        "outputId": "7592d9bf-2be3-4dc3-c3e8-9ad22f2a8afc"
      },
      "source": [
        "#Adding text data to the treemap boxes\n",
        "df_vertebrata = df_conserv[df['Alajakso'].isin(['Vertebrata'])]\n",
        "df_vertebrata.HallinnollinenAsema = df_vertebrata.HallinnollinenAsema.apply(lambda x: 'introduced species/vieraslaji' if 'vieras' in str(x) else '')\n"
      ],
      "execution_count": 71,
      "outputs": [
        {
          "output_type": "stream",
          "text": [
            "/usr/local/lib/python3.7/dist-packages/pandas/core/generic.py:5170: SettingWithCopyWarning: \n",
            "A value is trying to be set on a copy of a slice from a DataFrame.\n",
            "Try using .loc[row_indexer,col_indexer] = value instead\n",
            "\n",
            "See the caveats in the documentation: https://pandas.pydata.org/pandas-docs/stable/user_guide/indexing.html#returning-a-view-versus-a-copy\n",
            "  self[name] = value\n"
          ],
          "name": "stderr"
        }
      ]
    },
    {
      "cell_type": "code",
      "metadata": {
        "colab": {
          "base_uri": "https://localhost:8080/",
          "height": 359
        },
        "id": "LRgNWsiEJRLU",
        "outputId": "99aa1f92-8dc6-40f0-c142-a11dda522f23"
      },
      "source": [
        "# test get_gbif_api function\n",
        "pd.concat([df_vertebrata['Laji'].head(10), df_vertebrata['Laji'].head(10).apply(lambda x: get_gbif_api(x))], axis=1)"
      ],
      "execution_count": 72,
      "outputs": [
        {
          "output_type": "execute_result",
          "data": {
            "text/html": [
              "<div>\n",
              "<style scoped>\n",
              "    .dataframe tbody tr th:only-of-type {\n",
              "        vertical-align: middle;\n",
              "    }\n",
              "\n",
              "    .dataframe tbody tr th {\n",
              "        vertical-align: top;\n",
              "    }\n",
              "\n",
              "    .dataframe thead th {\n",
              "        text-align: right;\n",
              "    }\n",
              "</style>\n",
              "<table border=\"1\" class=\"dataframe\">\n",
              "  <thead>\n",
              "    <tr style=\"text-align: right;\">\n",
              "      <th></th>\n",
              "      <th>Laji</th>\n",
              "      <th>Laji</th>\n",
              "    </tr>\n",
              "  </thead>\n",
              "  <tbody>\n",
              "    <tr>\n",
              "      <th>26719</th>\n",
              "      <td>Bombina variegata</td>\n",
              "      <td>2423435</td>\n",
              "    </tr>\n",
              "    <tr>\n",
              "      <th>26720</th>\n",
              "      <td>Bufo bufo</td>\n",
              "      <td>5217160</td>\n",
              "    </tr>\n",
              "    <tr>\n",
              "      <th>26721</th>\n",
              "      <td>Pseudepidalea viridis</td>\n",
              "      <td>9529916</td>\n",
              "    </tr>\n",
              "    <tr>\n",
              "      <th>26722</th>\n",
              "      <td>Hyla arborea</td>\n",
              "      <td>2427573</td>\n",
              "    </tr>\n",
              "    <tr>\n",
              "      <th>26723</th>\n",
              "      <td>Rana arvalis</td>\n",
              "      <td>2426789</td>\n",
              "    </tr>\n",
              "    <tr>\n",
              "      <th>26724</th>\n",
              "      <td>Rana temporaria</td>\n",
              "      <td>2426805</td>\n",
              "    </tr>\n",
              "    <tr>\n",
              "      <th>26725</th>\n",
              "      <td>Pelophylax esculentus</td>\n",
              "      <td>2426654</td>\n",
              "    </tr>\n",
              "    <tr>\n",
              "      <th>26726</th>\n",
              "      <td>Pelophylax lessonae</td>\n",
              "      <td>2426654</td>\n",
              "    </tr>\n",
              "    <tr>\n",
              "      <th>26727</th>\n",
              "      <td>Pelophylax ridibundus</td>\n",
              "      <td>2426661</td>\n",
              "    </tr>\n",
              "    <tr>\n",
              "      <th>26728</th>\n",
              "      <td>Triturus cristatus</td>\n",
              "      <td>2431885</td>\n",
              "    </tr>\n",
              "  </tbody>\n",
              "</table>\n",
              "</div>"
            ],
            "text/plain": [
              "                        Laji     Laji\n",
              "26719      Bombina variegata  2423435\n",
              "26720              Bufo bufo  5217160\n",
              "26721  Pseudepidalea viridis  9529916\n",
              "26722           Hyla arborea  2427573\n",
              "26723           Rana arvalis  2426789\n",
              "26724        Rana temporaria  2426805\n",
              "26725  Pelophylax esculentus  2426654\n",
              "26726    Pelophylax lessonae  2426654\n",
              "26727  Pelophylax ridibundus  2426661\n",
              "26728     Triturus cristatus  2431885"
            ]
          },
          "metadata": {
            "tags": []
          },
          "execution_count": 72
        }
      ]
    },
    {
      "cell_type": "code",
      "metadata": {
        "colab": {
          "base_uri": "https://localhost:8080/",
          "height": 134
        },
        "id": "VcT2lawwlwjP",
        "outputId": "8f3133e0-c93c-455c-84cd-f9e3d78ef290"
      },
      "source": [
        "#test\n",
        "df_vertebrata[df_vertebrata['Name_FIN'].map(str) == 'alppikiitäjä']"
      ],
      "execution_count": 73,
      "outputs": [
        {
          "output_type": "execute_result",
          "data": {
            "text/html": [
              "<div>\n",
              "<style scoped>\n",
              "    .dataframe tbody tr th:only-of-type {\n",
              "        vertical-align: middle;\n",
              "    }\n",
              "\n",
              "    .dataframe tbody tr th {\n",
              "        vertical-align: top;\n",
              "    }\n",
              "\n",
              "    .dataframe thead th {\n",
              "        text-align: right;\n",
              "    }\n",
              "</style>\n",
              "<table border=\"1\" class=\"dataframe\">\n",
              "  <thead>\n",
              "    <tr style=\"text-align: right;\">\n",
              "      <th></th>\n",
              "      <th>Name_FIN</th>\n",
              "      <th>Tieteellinen nimi</th>\n",
              "      <th>Esiintymisen tyyppi</th>\n",
              "      <th>ConservationStatus</th>\n",
              "      <th>HallinnollinenAsema</th>\n",
              "      <th>Synonyymit</th>\n",
              "      <th>Name_ENG</th>\n",
              "      <th>Eliöryhmät</th>\n",
              "      <th>Kunta</th>\n",
              "      <th>Pääjakso</th>\n",
              "      <th>Alajakso</th>\n",
              "      <th>Luokka</th>\n",
              "      <th>Lahko</th>\n",
              "      <th>Heimo</th>\n",
              "      <th>Suku</th>\n",
              "      <th>Laji</th>\n",
              "      <th>Elinympäristöt</th>\n",
              "      <th>extinctness</th>\n",
              "      <th>ConservationStatusText</th>\n",
              "    </tr>\n",
              "  </thead>\n",
              "  <tbody>\n",
              "    <tr>\n",
              "      <th>26814</th>\n",
              "      <td>alppikiitäjä</td>\n",
              "      <td>Tachymarptis melba</td>\n",
              "      <td>NaN</td>\n",
              "      <td>50</td>\n",
              "      <td></td>\n",
              "      <td>Apus melba</td>\n",
              "      <td>Alpine Swift</td>\n",
              "      <td>Linnut</td>\n",
              "      <td>Animalia</td>\n",
              "      <td>Chordata</td>\n",
              "      <td>Vertebrata</td>\n",
              "      <td>Aves</td>\n",
              "      <td>Caprimulgiformes</td>\n",
              "      <td>Apodidae</td>\n",
              "      <td>Tachymarptis</td>\n",
              "      <td>Tachymarptis melba</td>\n",
              "      <td>NaN</td>\n",
              "      <td>1</td>\n",
              "      <td></td>\n",
              "    </tr>\n",
              "  </tbody>\n",
              "</table>\n",
              "</div>"
            ],
            "text/plain": [
              "           Name_FIN   Tieteellinen nimi  ... extinctness ConservationStatusText\n",
              "26814  alppikiitäjä  Tachymarptis melba  ...           1                       \n",
              "\n",
              "[1 rows x 19 columns]"
            ]
          },
          "metadata": {
            "tags": []
          },
          "execution_count": 73
        }
      ]
    },
    {
      "cell_type": "code",
      "metadata": {
        "colab": {
          "base_uri": "https://localhost:8080/",
          "height": 547
        },
        "id": "5PpW1b7gAdxw",
        "outputId": "7e7be6c2-abb2-4e92-f248-62e611fc2fb3"
      },
      "source": [
        "# generate text for treemap boxes\n",
        "df_vertebrata['text'] = \"FIN: \" + df_vertebrata['Name_FIN'].map(str) + \"<br>\" + \"ENG: \" + df_vertebrata['Name_ENG'].map(str) + \"<br>\" + df_vertebrata['ConservationStatusText'].map(str) + \"<br>\" + \"<a href='https://www.gbif.org/species/search?q=\" + df_vertebrata['Laji'].map(str) + \"'>gbif link</a><br>\" + (df_vertebrata['HallinnollinenAsema'].map(str))\n",
        "df_vertebrata.head()"
      ],
      "execution_count": 74,
      "outputs": [
        {
          "output_type": "stream",
          "text": [
            "/usr/local/lib/python3.7/dist-packages/ipykernel_launcher.py:2: SettingWithCopyWarning: \n",
            "A value is trying to be set on a copy of a slice from a DataFrame.\n",
            "Try using .loc[row_indexer,col_indexer] = value instead\n",
            "\n",
            "See the caveats in the documentation: https://pandas.pydata.org/pandas-docs/stable/user_guide/indexing.html#returning-a-view-versus-a-copy\n",
            "  \n"
          ],
          "name": "stderr"
        },
        {
          "output_type": "execute_result",
          "data": {
            "text/html": [
              "<div>\n",
              "<style scoped>\n",
              "    .dataframe tbody tr th:only-of-type {\n",
              "        vertical-align: middle;\n",
              "    }\n",
              "\n",
              "    .dataframe tbody tr th {\n",
              "        vertical-align: top;\n",
              "    }\n",
              "\n",
              "    .dataframe thead th {\n",
              "        text-align: right;\n",
              "    }\n",
              "</style>\n",
              "<table border=\"1\" class=\"dataframe\">\n",
              "  <thead>\n",
              "    <tr style=\"text-align: right;\">\n",
              "      <th></th>\n",
              "      <th>Name_FIN</th>\n",
              "      <th>Tieteellinen nimi</th>\n",
              "      <th>Esiintymisen tyyppi</th>\n",
              "      <th>ConservationStatus</th>\n",
              "      <th>HallinnollinenAsema</th>\n",
              "      <th>Synonyymit</th>\n",
              "      <th>Name_ENG</th>\n",
              "      <th>Eliöryhmät</th>\n",
              "      <th>Kunta</th>\n",
              "      <th>Pääjakso</th>\n",
              "      <th>Alajakso</th>\n",
              "      <th>Luokka</th>\n",
              "      <th>Lahko</th>\n",
              "      <th>Heimo</th>\n",
              "      <th>Suku</th>\n",
              "      <th>Laji</th>\n",
              "      <th>Elinympäristöt</th>\n",
              "      <th>extinctness</th>\n",
              "      <th>ConservationStatusText</th>\n",
              "      <th>text</th>\n",
              "    </tr>\n",
              "  </thead>\n",
              "  <tbody>\n",
              "    <tr>\n",
              "      <th>26719</th>\n",
              "      <td>vuoristokellosammakko</td>\n",
              "      <td>Bombina variegata</td>\n",
              "      <td>Ihmisen vaikutuksesta</td>\n",
              "      <td>50</td>\n",
              "      <td>introduced species/vieraslaji</td>\n",
              "      <td>NaN</td>\n",
              "      <td>Yellow-bellied toad</td>\n",
              "      <td>Matelijat ja sammakkoeläimet, Sammakkoeläimet</td>\n",
              "      <td>Animalia</td>\n",
              "      <td>Chordata</td>\n",
              "      <td>Vertebrata</td>\n",
              "      <td>Amphibia</td>\n",
              "      <td>Anura</td>\n",
              "      <td>Bombinatoridae</td>\n",
              "      <td>Bombina</td>\n",
              "      <td>Bombina variegata</td>\n",
              "      <td>NaN</td>\n",
              "      <td>1</td>\n",
              "      <td>Not Applicable</td>\n",
              "      <td>FIN: vuoristokellosammakko&lt;br&gt;ENG: Yellow-bell...</td>\n",
              "    </tr>\n",
              "    <tr>\n",
              "      <th>26720</th>\n",
              "      <td>rupikonna</td>\n",
              "      <td>Bufo bufo</td>\n",
              "      <td>Vakiintunut</td>\n",
              "      <td>100</td>\n",
              "      <td></td>\n",
              "      <td>NaN</td>\n",
              "      <td>Common toad</td>\n",
              "      <td>Matelijat ja sammakkoeläimet, Sammakkoeläimet</td>\n",
              "      <td>Animalia</td>\n",
              "      <td>Chordata</td>\n",
              "      <td>Vertebrata</td>\n",
              "      <td>Amphibia</td>\n",
              "      <td>Anura</td>\n",
              "      <td>Bufonidae</td>\n",
              "      <td>Bufo</td>\n",
              "      <td>Bufo bufo</td>\n",
              "      <td>M – Metsät; S – Suot; R – Rannat; Vs – järvet ...</td>\n",
              "      <td>1</td>\n",
              "      <td>Least Concern</td>\n",
              "      <td>FIN: rupikonna&lt;br&gt;ENG: Common toad&lt;br&gt;Least Co...</td>\n",
              "    </tr>\n",
              "    <tr>\n",
              "      <th>26721</th>\n",
              "      <td>viherkonna</td>\n",
              "      <td>Pseudepidalea viridis</td>\n",
              "      <td>Satunnainen harhailija</td>\n",
              "      <td>50</td>\n",
              "      <td></td>\n",
              "      <td>Bufo viridis Laurenti, 1768</td>\n",
              "      <td>European Green Toad</td>\n",
              "      <td>Matelijat ja sammakkoeläimet, Sammakkoeläimet</td>\n",
              "      <td>Animalia</td>\n",
              "      <td>Chordata</td>\n",
              "      <td>Vertebrata</td>\n",
              "      <td>Amphibia</td>\n",
              "      <td>Anura</td>\n",
              "      <td>Bufonidae</td>\n",
              "      <td>Pseudepidalea</td>\n",
              "      <td>Pseudepidalea viridis</td>\n",
              "      <td>NaN</td>\n",
              "      <td>1</td>\n",
              "      <td>Not Applicable</td>\n",
              "      <td>FIN: viherkonna&lt;br&gt;ENG: European Green Toad&lt;br...</td>\n",
              "    </tr>\n",
              "    <tr>\n",
              "      <th>26722</th>\n",
              "      <td>euroopanlehtisammakko</td>\n",
              "      <td>Hyla arborea</td>\n",
              "      <td>Ihmisen vaikutuksesta</td>\n",
              "      <td>50</td>\n",
              "      <td>introduced species/vieraslaji</td>\n",
              "      <td>NaN</td>\n",
              "      <td>European tree frog</td>\n",
              "      <td>Matelijat ja sammakkoeläimet, Sammakkoeläimet</td>\n",
              "      <td>Animalia</td>\n",
              "      <td>Chordata</td>\n",
              "      <td>Vertebrata</td>\n",
              "      <td>Amphibia</td>\n",
              "      <td>Anura</td>\n",
              "      <td>Hylidae</td>\n",
              "      <td>Hyla</td>\n",
              "      <td>Hyla arborea</td>\n",
              "      <td>NaN</td>\n",
              "      <td>1</td>\n",
              "      <td></td>\n",
              "      <td>FIN: euroopanlehtisammakko&lt;br&gt;ENG: European tr...</td>\n",
              "    </tr>\n",
              "    <tr>\n",
              "      <th>26723</th>\n",
              "      <td>viitasammakko</td>\n",
              "      <td>Rana arvalis</td>\n",
              "      <td>Vakiintunut</td>\n",
              "      <td>100</td>\n",
              "      <td></td>\n",
              "      <td>NaN</td>\n",
              "      <td>Moor frog</td>\n",
              "      <td>Matelijat ja sammakkoeläimet, Sammakkoeläimet</td>\n",
              "      <td>Animalia</td>\n",
              "      <td>Chordata</td>\n",
              "      <td>Vertebrata</td>\n",
              "      <td>Amphibia</td>\n",
              "      <td>Anura</td>\n",
              "      <td>Ranidae</td>\n",
              "      <td>Rana</td>\n",
              "      <td>Rana arvalis</td>\n",
              "      <td>M – Metsät; S – Suot; R – Rannat; I – Perinney...</td>\n",
              "      <td>1</td>\n",
              "      <td>Least Concern</td>\n",
              "      <td>FIN: viitasammakko&lt;br&gt;ENG: Moor frog&lt;br&gt;Least ...</td>\n",
              "    </tr>\n",
              "  </tbody>\n",
              "</table>\n",
              "</div>"
            ],
            "text/plain": [
              "                    Name_FIN  ...                                               text\n",
              "26719  vuoristokellosammakko  ...  FIN: vuoristokellosammakko<br>ENG: Yellow-bell...\n",
              "26720              rupikonna  ...  FIN: rupikonna<br>ENG: Common toad<br>Least Co...\n",
              "26721             viherkonna  ...  FIN: viherkonna<br>ENG: European Green Toad<br...\n",
              "26722  euroopanlehtisammakko  ...  FIN: euroopanlehtisammakko<br>ENG: European tr...\n",
              "26723          viitasammakko  ...  FIN: viitasammakko<br>ENG: Moor frog<br>Least ...\n",
              "\n",
              "[5 rows x 20 columns]"
            ]
          },
          "metadata": {
            "tags": []
          },
          "execution_count": 74
        }
      ]
    },
    {
      "cell_type": "code",
      "metadata": {
        "colab": {
          "base_uri": "https://localhost:8080/",
          "height": 151
        },
        "id": "M1XlpA6ulA2c",
        "outputId": "dacb7f67-c914-425a-8e94-ebc44a86073d"
      },
      "source": [
        "#test\n",
        "df_vertebrata[df_vertebrata['Name_FIN'] == 'pikkuvarpunen']"
      ],
      "execution_count": 75,
      "outputs": [
        {
          "output_type": "execute_result",
          "data": {
            "text/html": [
              "<div>\n",
              "<style scoped>\n",
              "    .dataframe tbody tr th:only-of-type {\n",
              "        vertical-align: middle;\n",
              "    }\n",
              "\n",
              "    .dataframe tbody tr th {\n",
              "        vertical-align: top;\n",
              "    }\n",
              "\n",
              "    .dataframe thead th {\n",
              "        text-align: right;\n",
              "    }\n",
              "</style>\n",
              "<table border=\"1\" class=\"dataframe\">\n",
              "  <thead>\n",
              "    <tr style=\"text-align: right;\">\n",
              "      <th></th>\n",
              "      <th>Name_FIN</th>\n",
              "      <th>Tieteellinen nimi</th>\n",
              "      <th>Esiintymisen tyyppi</th>\n",
              "      <th>ConservationStatus</th>\n",
              "      <th>HallinnollinenAsema</th>\n",
              "      <th>Synonyymit</th>\n",
              "      <th>Name_ENG</th>\n",
              "      <th>Eliöryhmät</th>\n",
              "      <th>Kunta</th>\n",
              "      <th>Pääjakso</th>\n",
              "      <th>Alajakso</th>\n",
              "      <th>Luokka</th>\n",
              "      <th>Lahko</th>\n",
              "      <th>Heimo</th>\n",
              "      <th>Suku</th>\n",
              "      <th>Laji</th>\n",
              "      <th>Elinympäristöt</th>\n",
              "      <th>extinctness</th>\n",
              "      <th>ConservationStatusText</th>\n",
              "      <th>text</th>\n",
              "    </tr>\n",
              "  </thead>\n",
              "  <tbody>\n",
              "    <tr>\n",
              "      <th>27071</th>\n",
              "      <td>pikkuvarpunen</td>\n",
              "      <td>Passer montanus</td>\n",
              "      <td>Vakiintunut</td>\n",
              "      <td>100</td>\n",
              "      <td></td>\n",
              "      <td>NaN</td>\n",
              "      <td>Eurasian Tree Sparrow</td>\n",
              "      <td>Linnut</td>\n",
              "      <td>Animalia</td>\n",
              "      <td>Chordata</td>\n",
              "      <td>Vertebrata</td>\n",
              "      <td>Aves</td>\n",
              "      <td>Passeriformes</td>\n",
              "      <td>Passeridae</td>\n",
              "      <td>Passer</td>\n",
              "      <td>Passer montanus</td>\n",
              "      <td>Ir – rakennukset ja rakenteet; Ip - puistot, p...</td>\n",
              "      <td>1</td>\n",
              "      <td>Least Concern</td>\n",
              "      <td>FIN: pikkuvarpunen&lt;br&gt;ENG: Eurasian Tree Sparr...</td>\n",
              "    </tr>\n",
              "  </tbody>\n",
              "</table>\n",
              "</div>"
            ],
            "text/plain": [
              "            Name_FIN  ...                                               text\n",
              "27071  pikkuvarpunen  ...  FIN: pikkuvarpunen<br>ENG: Eurasian Tree Sparr...\n",
              "\n",
              "[1 rows x 20 columns]"
            ]
          },
          "metadata": {
            "tags": []
          },
          "execution_count": 75
        }
      ]
    },
    {
      "cell_type": "code",
      "metadata": {
        "colab": {
          "base_uri": "https://localhost:8080/",
          "height": 510
        },
        "id": "tzFojYPHCoQw",
        "outputId": "a14b5459-cbbc-4a76-b366-d95a7436427b"
      },
      "source": [
        "fig = px.treemap(df_vertebrata, path=['Kunta', 'Pääjakso', 'Alajakso', 'Luokka', 'Lahko',\t'Heimo', 'Suku', 'Laji'], values='ConservationStatus',\n",
        "                  color='ConservationStatus', hover_data=['Name_FIN'], \n",
        "                  color_continuous_scale='Hot',  color_continuous_midpoint=50\n",
        "                  #,color_continuous_midpoint=np.average(df['ConservationStatus'], weights=df['fake_val'])\n",
        "                  )\n",
        "#fig.data[0].hoverinfo = 'label+value+text'\n",
        "fig.data[0].hovertemplate = '%{label}<br>Total Conservation Score: %{value}<br>Average Conservation: %{color}%'\n",
        "#fig.show()\n",
        "fig.update_traces(maxdepth=3, \n",
        "                  text = df_vertebrata['text'],\n",
        " #                 text='Suositeltu yleiskielinen nimi', textinfo=text, \n",
        "                  selector=dict(type='treemap'))\n",
        "fig.update_layout(title_text=\"Endangered Animals in Finland according to the <a href='https://laji.fi/'>Finnish Biodiversity Information Facility</a>\")\n",
        "fig.show()\n",
        "\n"
      ],
      "execution_count": 77,
      "outputs": [
        {
          "output_type": "error",
          "ename": "ValueError",
          "evalue": "ignored",
          "traceback": [
            "\u001b[0;31m---------------------------------------------------------------------------\u001b[0m",
            "\u001b[0;31mValueError\u001b[0m                                Traceback (most recent call last)",
            "\u001b[0;32m<ipython-input-77-2e92f8751cc1>\u001b[0m in \u001b[0;36m<module>\u001b[0;34m()\u001b[0m\n\u001b[1;32m      1\u001b[0m fig = px.treemap(df_vertebrata, path=['Kunta', 'Pääjakso', 'Alajakso', 'Luokka', 'Lahko',\t'Heimo', 'Suku', 'Laji'], values='ConservationStatus',\n\u001b[1;32m      2\u001b[0m                   \u001b[0mcolor\u001b[0m\u001b[0;34m=\u001b[0m\u001b[0;34m'ConservationStatus'\u001b[0m\u001b[0;34m,\u001b[0m \u001b[0mhover_data\u001b[0m\u001b[0;34m=\u001b[0m\u001b[0;34m[\u001b[0m\u001b[0;34m'Name_FIN'\u001b[0m\u001b[0;34m]\u001b[0m\u001b[0;34m,\u001b[0m\u001b[0;34m\u001b[0m\u001b[0;34m\u001b[0m\u001b[0m\n\u001b[0;32m----> 3\u001b[0;31m                   \u001b[0mcolor_continuous_scale\u001b[0m\u001b[0;34m=\u001b[0m\u001b[0;34m'Hot'\u001b[0m\u001b[0;34m,\u001b[0m  \u001b[0mcolor_continuous_midpoint\u001b[0m\u001b[0;34m=\u001b[0m\u001b[0;36m50\u001b[0m\u001b[0;34m\u001b[0m\u001b[0;34m\u001b[0m\u001b[0m\n\u001b[0m\u001b[1;32m      4\u001b[0m                   \u001b[0;31m#,color_continuous_midpoint=np.average(df['ConservationStatus'], weights=df['fake_val'])\u001b[0m\u001b[0;34m\u001b[0m\u001b[0;34m\u001b[0m\u001b[0;34m\u001b[0m\u001b[0m\n\u001b[1;32m      5\u001b[0m                   )\n",
            "\u001b[0;32m/usr/local/lib/python3.7/dist-packages/plotly/express/_chart_types.py\u001b[0m in \u001b[0;36mtreemap\u001b[0;34m(data_frame, names, values, parents, ids, path, color, color_continuous_scale, range_color, color_continuous_midpoint, color_discrete_sequence, color_discrete_map, hover_name, hover_data, custom_data, labels, title, template, width, height, branchvalues, maxdepth)\u001b[0m\n\u001b[1;32m   1466\u001b[0m         \u001b[0mconstructor\u001b[0m\u001b[0;34m=\u001b[0m\u001b[0mgo\u001b[0m\u001b[0;34m.\u001b[0m\u001b[0mTreemap\u001b[0m\u001b[0;34m,\u001b[0m\u001b[0;34m\u001b[0m\u001b[0;34m\u001b[0m\u001b[0m\n\u001b[1;32m   1467\u001b[0m         \u001b[0mtrace_patch\u001b[0m\u001b[0;34m=\u001b[0m\u001b[0mdict\u001b[0m\u001b[0;34m(\u001b[0m\u001b[0mbranchvalues\u001b[0m\u001b[0;34m=\u001b[0m\u001b[0mbranchvalues\u001b[0m\u001b[0;34m,\u001b[0m \u001b[0mmaxdepth\u001b[0m\u001b[0;34m=\u001b[0m\u001b[0mmaxdepth\u001b[0m\u001b[0;34m)\u001b[0m\u001b[0;34m,\u001b[0m\u001b[0;34m\u001b[0m\u001b[0;34m\u001b[0m\u001b[0m\n\u001b[0;32m-> 1468\u001b[0;31m         \u001b[0mlayout_patch\u001b[0m\u001b[0;34m=\u001b[0m\u001b[0mlayout_patch\u001b[0m\u001b[0;34m,\u001b[0m\u001b[0;34m\u001b[0m\u001b[0;34m\u001b[0m\u001b[0m\n\u001b[0m\u001b[1;32m   1469\u001b[0m     )\n\u001b[1;32m   1470\u001b[0m \u001b[0;34m\u001b[0m\u001b[0m\n",
            "\u001b[0;32m/usr/local/lib/python3.7/dist-packages/plotly/express/_core.py\u001b[0m in \u001b[0;36mmake_figure\u001b[0;34m(args, constructor, trace_patch, layout_patch)\u001b[0m\n\u001b[1;32m   1861\u001b[0m     \u001b[0margs\u001b[0m \u001b[0;34m=\u001b[0m \u001b[0mbuild_dataframe\u001b[0m\u001b[0;34m(\u001b[0m\u001b[0margs\u001b[0m\u001b[0;34m,\u001b[0m \u001b[0mconstructor\u001b[0m\u001b[0;34m)\u001b[0m\u001b[0;34m\u001b[0m\u001b[0;34m\u001b[0m\u001b[0m\n\u001b[1;32m   1862\u001b[0m     \u001b[0;32mif\u001b[0m \u001b[0mconstructor\u001b[0m \u001b[0;32min\u001b[0m \u001b[0;34m[\u001b[0m\u001b[0mgo\u001b[0m\u001b[0;34m.\u001b[0m\u001b[0mTreemap\u001b[0m\u001b[0;34m,\u001b[0m \u001b[0mgo\u001b[0m\u001b[0;34m.\u001b[0m\u001b[0mSunburst\u001b[0m\u001b[0;34m]\u001b[0m \u001b[0;32mand\u001b[0m \u001b[0margs\u001b[0m\u001b[0;34m[\u001b[0m\u001b[0;34m\"path\"\u001b[0m\u001b[0;34m]\u001b[0m \u001b[0;32mis\u001b[0m \u001b[0;32mnot\u001b[0m \u001b[0;32mNone\u001b[0m\u001b[0;34m:\u001b[0m\u001b[0;34m\u001b[0m\u001b[0;34m\u001b[0m\u001b[0m\n\u001b[0;32m-> 1863\u001b[0;31m         \u001b[0margs\u001b[0m \u001b[0;34m=\u001b[0m \u001b[0mprocess_dataframe_hierarchy\u001b[0m\u001b[0;34m(\u001b[0m\u001b[0margs\u001b[0m\u001b[0;34m)\u001b[0m\u001b[0;34m\u001b[0m\u001b[0;34m\u001b[0m\u001b[0m\n\u001b[0m\u001b[1;32m   1864\u001b[0m     \u001b[0;32mif\u001b[0m \u001b[0mconstructor\u001b[0m \u001b[0;34m==\u001b[0m \u001b[0;34m\"timeline\"\u001b[0m\u001b[0;34m:\u001b[0m\u001b[0;34m\u001b[0m\u001b[0;34m\u001b[0m\u001b[0m\n\u001b[1;32m   1865\u001b[0m         \u001b[0mconstructor\u001b[0m \u001b[0;34m=\u001b[0m \u001b[0mgo\u001b[0m\u001b[0;34m.\u001b[0m\u001b[0mBar\u001b[0m\u001b[0;34m\u001b[0m\u001b[0;34m\u001b[0m\u001b[0m\n",
            "\u001b[0;32m/usr/local/lib/python3.7/dist-packages/plotly/express/_core.py\u001b[0m in \u001b[0;36mprocess_dataframe_hierarchy\u001b[0;34m(args)\u001b[0m\n\u001b[1;32m   1500\u001b[0m     \u001b[0mdf\u001b[0m \u001b[0;34m=\u001b[0m \u001b[0margs\u001b[0m\u001b[0;34m[\u001b[0m\u001b[0;34m\"data_frame\"\u001b[0m\u001b[0;34m]\u001b[0m\u001b[0;34m\u001b[0m\u001b[0;34m\u001b[0m\u001b[0m\n\u001b[1;32m   1501\u001b[0m     \u001b[0mpath\u001b[0m \u001b[0;34m=\u001b[0m \u001b[0margs\u001b[0m\u001b[0;34m[\u001b[0m\u001b[0;34m\"path\"\u001b[0m\u001b[0;34m]\u001b[0m\u001b[0;34m[\u001b[0m\u001b[0;34m:\u001b[0m\u001b[0;34m:\u001b[0m\u001b[0;34m-\u001b[0m\u001b[0;36m1\u001b[0m\u001b[0;34m]\u001b[0m\u001b[0;34m\u001b[0m\u001b[0;34m\u001b[0m\u001b[0m\n\u001b[0;32m-> 1502\u001b[0;31m     \u001b[0m_check_dataframe_all_leaves\u001b[0m\u001b[0;34m(\u001b[0m\u001b[0mdf\u001b[0m\u001b[0;34m[\u001b[0m\u001b[0mpath\u001b[0m\u001b[0;34m[\u001b[0m\u001b[0;34m:\u001b[0m\u001b[0;34m:\u001b[0m\u001b[0;34m-\u001b[0m\u001b[0;36m1\u001b[0m\u001b[0;34m]\u001b[0m\u001b[0;34m]\u001b[0m\u001b[0;34m)\u001b[0m\u001b[0;34m\u001b[0m\u001b[0;34m\u001b[0m\u001b[0m\n\u001b[0m\u001b[1;32m   1503\u001b[0m     \u001b[0mdiscrete_color\u001b[0m \u001b[0;34m=\u001b[0m \u001b[0;32mFalse\u001b[0m\u001b[0;34m\u001b[0m\u001b[0;34m\u001b[0m\u001b[0m\n\u001b[1;32m   1504\u001b[0m \u001b[0;34m\u001b[0m\u001b[0m\n",
            "\u001b[0;32m/usr/local/lib/python3.7/dist-packages/plotly/express/_core.py\u001b[0m in \u001b[0;36m_check_dataframe_all_leaves\u001b[0;34m(df)\u001b[0m\n\u001b[1;32m   1490\u001b[0m                 \u001b[0;34m\"Non-leaves rows are not permitted in the dataframe \\n\"\u001b[0m\u001b[0;34m,\u001b[0m\u001b[0;34m\u001b[0m\u001b[0;34m\u001b[0m\u001b[0m\n\u001b[1;32m   1491\u001b[0m                 \u001b[0mdf_sorted\u001b[0m\u001b[0;34m.\u001b[0m\u001b[0miloc\u001b[0m\u001b[0;34m[\u001b[0m\u001b[0mi\u001b[0m \u001b[0;34m+\u001b[0m \u001b[0;36m1\u001b[0m\u001b[0;34m]\u001b[0m\u001b[0;34m,\u001b[0m\u001b[0;34m\u001b[0m\u001b[0;34m\u001b[0m\u001b[0m\n\u001b[0;32m-> 1492\u001b[0;31m                 \u001b[0;34m\"is not a leaf.\"\u001b[0m\u001b[0;34m,\u001b[0m\u001b[0;34m\u001b[0m\u001b[0;34m\u001b[0m\u001b[0m\n\u001b[0m\u001b[1;32m   1493\u001b[0m             )\n\u001b[1;32m   1494\u001b[0m \u001b[0;34m\u001b[0m\u001b[0m\n",
            "\u001b[0;31mValueError\u001b[0m: ('Non-leaves rows are not permitted in the dataframe \\n', Kunta                Animalia\nPääjakso             Chordata\nAlajakso           Vertebrata\nLuokka         Actinopterygii\nLahko       Pleuronectiformes\nHeimo          Pleuronectidae\nSuku              Platichthys\nLaji                         \nName: 679, dtype: object, 'is not a leaf.')"
          ]
        }
      ]
    },
    {
      "cell_type": "code",
      "metadata": {
        "id": "rKBhRq4_JyTG"
      },
      "source": [
        "# examination of fig contents\n",
        "#fig.data[0]\n",
        "#fig.data[0].labels.shape,\n",
        "fig.data[0].labels"
      ],
      "execution_count": null,
      "outputs": []
    },
    {
      "cell_type": "code",
      "metadata": {
        "id": "7jTxAYnorACb"
      },
      "source": [
        "species.name_suggest(q='puma concolor')[0]"
      ],
      "execution_count": null,
      "outputs": []
    },
    {
      "cell_type": "code",
      "metadata": {
        "id": "0m3eJz_8que6"
      },
      "source": [
        "#It would be easy to generate links to species profiles on gbif with this if it wasn't so slow.\n",
        "\"https://www.gbif.org/species/\" + str(species.name_suggest(q='puma concolor')[0].get('speciesKey'))"
      ],
      "execution_count": null,
      "outputs": []
    },
    {
      "cell_type": "code",
      "metadata": {
        "id": "M_whDTPKpRzS"
      },
      "source": [
        "dir(species.name_suggest(q='puma concolor')[0])"
      ],
      "execution_count": null,
      "outputs": []
    },
    {
      "cell_type": "code",
      "metadata": {
        "id": "UNqteLnYD5GQ"
      },
      "source": [
        "pio.write_html(fig, file='index.html', auto_open=True)"
      ],
      "execution_count": null,
      "outputs": []
    }
  ]
}